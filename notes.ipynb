{
 "cells": [
  {
   "cell_type": "markdown",
   "metadata": {},
   "source": [
    "Machine instructions - 0s and 1s are known as\n",
    "\n",
    "Compilor - Translsate a high level language program into low-level machine instructions  \n",
    "\n",
    "Application- another wrod for program \n",
    "\n",
    "assembly language - Human-readable processor instruction. \n",
    "\n",
    "Storage: A disk (hard drive) \n",
    "Memory: Ram (random-access emory) - RAM looses contents when powered off\n",
    "\n",
    "    Difference between memory and storage - Storage does not loose memory when powered off while memoery does loose rank when powered off. \n",
    "\n",
    "Processor executes a program called an operating system\n",
    "Operating system allows user to run other \n",
    "\n",
    "Garbage collection - Deleting unused objects in an automatic process. \n",
    "Mutability - Indicates whether the Object's value is allowed to be changed \n",
    "Immutable - Integer and string values canont be changed. \n"
   ]
  }
 ],
 "metadata": {
  "language_info": {
   "name": "python"
  }
 },
 "nbformat": 4,
 "nbformat_minor": 2
}
