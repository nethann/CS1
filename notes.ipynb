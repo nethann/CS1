{
 "cells": [
  {
   "cell_type": "markdown",
   "metadata": {},
   "source": [
    "Machine instructions - 0s and 1s are known as\n",
    "\n",
    "Compilor - Translsate a high level language program into low-level machine instructions  \n",
    "\n",
    "Application- another wrod for program \n",
    "\n",
    "assembly language - Human-readable processor instruction. \n",
    "\n",
    "Storage: A disk (hard drive) \n",
    "Memory: Ram (random-access emory) - RAM looses contents when powered off\n",
    "\n",
    "    Difference between memory and storage - Storage does not loose memory when powered off while memoery does loose rank when powered off. \n",
    "\n",
    "Processor executes a program called an operating system\n",
    "Operating system allows user to run other \n",
    "\n",
    "Garbage collection - Deleting unused objects in an automatic process. \n",
    "Mutability - Indicates whether the Object's value is allowed to be changed \n",
    "Immutable - Integer and string values canont be changed. \n",
    "\n",
    "---"
   ]
  },
  {
   "cell_type": "markdown",
   "metadata": {},
   "source": [
    "#Math modules\n",
    "\n",
    "> math.ceil() -> rounds num up to nearest integer\n",
    "\n",
    "\n",
    "> math.floor() -> rounds num dow nto nearest integer\n",
    "\n",
    "\n",
    "> math.factorial() -> returns factorial of a num \n",
    "\n",
    "*** \n",
    "\n",
    "#Random modules\n",
    "\n",
    "\n",
    "> random.randint(1,10) -> returns values 1-10\n",
    "\n",
    "\n",
    "> random.radrange(31) -> min through max-1 \n",
    "\n"
   ]
  },
  {
   "cell_type": "code",
   "execution_count": 29,
   "metadata": {},
   "outputs": [
    {
     "name": "stdout",
     "output_type": "stream",
     "text": [
      "3 2 720\n",
      "25\n",
      "4\n"
     ]
    }
   ],
   "source": [
    "import math \n",
    "import random\n",
    "\n",
    "#using math modules \n",
    "a = math.ceil(2.4)\n",
    "b = math.floor(2.4)\n",
    "c = math.factorial(6) # 6 x 5 x 4 x 3 x 2 x 1\n",
    "\n",
    "print(f'{a} {b} {c}')\n",
    "\n",
    "\n",
    "#random modules\n",
    "print(random.randrange(31))\n",
    "\n",
    "\n"
   ]
  }
 ],
 "metadata": {
  "kernelspec": {
   "display_name": "Python 3",
   "language": "python",
   "name": "python3"
  },
  "language_info": {
   "codemirror_mode": {
    "name": "ipython",
    "version": 3
   },
   "file_extension": ".py",
   "mimetype": "text/x-python",
   "name": "python",
   "nbconvert_exporter": "python",
   "pygments_lexer": "ipython3",
   "version": "3.10.4"
  }
 },
 "nbformat": 4,
 "nbformat_minor": 2
}
